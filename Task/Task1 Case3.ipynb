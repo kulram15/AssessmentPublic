{
 "cells": [
  {
   "cell_type": "code",
   "execution_count": 33,
   "metadata": {},
   "outputs": [
    {
     "name": "stdout",
     "output_type": "stream",
     "text": [
      "Enter Your First name :Ram\n",
      "Enter Your Last name :Kul\n",
      "Kul Ram\n"
     ]
    }
   ],
   "source": [
    "First = str(input(\"Enter Your First name :\"))\n",
    "Last = str(input(\"Enter Your Last name :\"))\n",
    "print(Last+' '+ First)"
   ]
  }
 ],
 "metadata": {
  "kernelspec": {
   "display_name": "Python 3",
   "language": "python",
   "name": "python3"
  },
  "language_info": {
   "codemirror_mode": {
    "name": "ipython",
    "version": 3
   },
   "file_extension": ".py",
   "mimetype": "text/x-python",
   "name": "python",
   "nbconvert_exporter": "python",
   "pygments_lexer": "ipython3",
   "version": "3.7.3"
  }
 },
 "nbformat": 4,
 "nbformat_minor": 2
}
