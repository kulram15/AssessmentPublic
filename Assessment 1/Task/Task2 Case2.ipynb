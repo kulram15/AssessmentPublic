{
 "cells": [
  {
   "cell_type": "code",
   "execution_count": 54,
   "metadata": {},
   "outputs": [
    {
     "name": "stdout",
     "output_type": "stream",
     "text": [
      "*\n",
      "**\n",
      "***\n",
      "****\n",
      "*****\n",
      "****\n",
      "***\n",
      "**\n",
      "*\n"
     ]
    }
   ],
   "source": [
    "\n",
    "x=(\"*\")\n",
    "i=1\n",
    "j=5\n",
    "k=1\n",
    "while(i<5):\n",
    "    while(i<=j):\n",
    "        print(i*x)\n",
    "        i=i+1\n",
    "i=i+1\n",
    "while(j>1):\n",
    "    while(j>k):\n",
    "        j=j-1\n",
    "        print(j*x)\n",
    "j=j-1\n",
    "        "
   ]
  }
 ],
 "metadata": {
  "kernelspec": {
   "display_name": "Python 3",
   "language": "python",
   "name": "python3"
  },
  "language_info": {
   "codemirror_mode": {
    "name": "ipython",
    "version": 3
   },
   "file_extension": ".py",
   "mimetype": "text/x-python",
   "name": "python",
   "nbconvert_exporter": "python",
   "pygments_lexer": "ipython3",
   "version": "3.7.3"
  }
 },
 "nbformat": 4,
 "nbformat_minor": 2
}
